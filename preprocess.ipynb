{
 "cells": [
  {
   "cell_type": "code",
   "execution_count": 1,
   "metadata": {},
   "outputs": [],
   "source": [
    "import pandas as pd\n",
    "import numpy as np\n"
   ]
  },
  {
   "cell_type": "code",
   "execution_count": 2,
   "metadata": {},
   "outputs": [],
   "source": [
    "df = pd.read_csv('data.csv')"
   ]
  },
  {
   "cell_type": "code",
   "execution_count": 3,
   "metadata": {},
   "outputs": [],
   "source": [
    "df = df.drop(['beats'], axis=1)"
   ]
  },
  {
   "cell_type": "code",
   "execution_count": 4,
   "metadata": {
    "scrolled": true
   },
   "outputs": [
    {
     "data": {
      "text/html": [
       "<div>\n",
       "<style scoped>\n",
       "    .dataframe tbody tr th:only-of-type {\n",
       "        vertical-align: middle;\n",
       "    }\n",
       "\n",
       "    .dataframe tbody tr th {\n",
       "        vertical-align: top;\n",
       "    }\n",
       "\n",
       "    .dataframe thead th {\n",
       "        text-align: right;\n",
       "    }\n",
       "</style>\n",
       "<table border=\"1\" class=\"dataframe\">\n",
       "  <thead>\n",
       "    <tr style=\"text-align: right;\">\n",
       "      <th></th>\n",
       "      <th>class_name</th>\n",
       "      <th>tempo</th>\n",
       "      <th>chroma_stft</th>\n",
       "      <th>rmse</th>\n",
       "      <th>spectral_centroid</th>\n",
       "      <th>spectral_bandwidth</th>\n",
       "      <th>rolloff</th>\n",
       "      <th>zero_crossing_rate</th>\n",
       "      <th>mfcc1</th>\n",
       "      <th>mfcc2</th>\n",
       "      <th>...</th>\n",
       "      <th>mfcc12</th>\n",
       "      <th>mfcc13</th>\n",
       "      <th>mfcc14</th>\n",
       "      <th>mfcc15</th>\n",
       "      <th>mfcc16</th>\n",
       "      <th>mfcc17</th>\n",
       "      <th>mfcc18</th>\n",
       "      <th>mfcc19</th>\n",
       "      <th>mfcc20</th>\n",
       "      <th>label</th>\n",
       "    </tr>\n",
       "  </thead>\n",
       "  <tbody>\n",
       "    <tr>\n",
       "      <th>0</th>\n",
       "      <td>blues</td>\n",
       "      <td>103.359375</td>\n",
       "      <td>0.380260</td>\n",
       "      <td>0.248262</td>\n",
       "      <td>2116.942959</td>\n",
       "      <td>1956.611056</td>\n",
       "      <td>4196.107960</td>\n",
       "      <td>0.127272</td>\n",
       "      <td>-26.929785</td>\n",
       "      <td>107.334008</td>\n",
       "      <td>...</td>\n",
       "      <td>14.336612</td>\n",
       "      <td>-13.821769</td>\n",
       "      <td>7.562789</td>\n",
       "      <td>-6.181372</td>\n",
       "      <td>0.330165</td>\n",
       "      <td>-6.829571</td>\n",
       "      <td>0.965922</td>\n",
       "      <td>-7.570825</td>\n",
       "      <td>2.918987</td>\n",
       "      <td>blues</td>\n",
       "    </tr>\n",
       "    <tr>\n",
       "      <th>1</th>\n",
       "      <td>blues</td>\n",
       "      <td>95.703125</td>\n",
       "      <td>0.306451</td>\n",
       "      <td>0.113475</td>\n",
       "      <td>1156.070496</td>\n",
       "      <td>1497.668176</td>\n",
       "      <td>2170.053545</td>\n",
       "      <td>0.058613</td>\n",
       "      <td>-233.860772</td>\n",
       "      <td>136.170239</td>\n",
       "      <td>...</td>\n",
       "      <td>-2.250578</td>\n",
       "      <td>3.959198</td>\n",
       "      <td>5.322555</td>\n",
       "      <td>0.812028</td>\n",
       "      <td>-1.107202</td>\n",
       "      <td>-4.556555</td>\n",
       "      <td>-2.436490</td>\n",
       "      <td>3.316913</td>\n",
       "      <td>-0.608485</td>\n",
       "      <td>blues</td>\n",
       "    </tr>\n",
       "    <tr>\n",
       "      <th>2</th>\n",
       "      <td>blues</td>\n",
       "      <td>151.999081</td>\n",
       "      <td>0.253487</td>\n",
       "      <td>0.151571</td>\n",
       "      <td>1331.073970</td>\n",
       "      <td>1973.643437</td>\n",
       "      <td>2900.174130</td>\n",
       "      <td>0.042967</td>\n",
       "      <td>-221.802549</td>\n",
       "      <td>110.843070</td>\n",
       "      <td>...</td>\n",
       "      <td>-13.037723</td>\n",
       "      <td>-12.652228</td>\n",
       "      <td>-1.821905</td>\n",
       "      <td>-7.260097</td>\n",
       "      <td>-6.660252</td>\n",
       "      <td>-14.682694</td>\n",
       "      <td>-11.719264</td>\n",
       "      <td>-11.025216</td>\n",
       "      <td>-13.387260</td>\n",
       "      <td>blues</td>\n",
       "    </tr>\n",
       "    <tr>\n",
       "      <th>3</th>\n",
       "      <td>blues</td>\n",
       "      <td>184.570312</td>\n",
       "      <td>0.269320</td>\n",
       "      <td>0.119072</td>\n",
       "      <td>1361.045467</td>\n",
       "      <td>1567.804596</td>\n",
       "      <td>2739.625101</td>\n",
       "      <td>0.069124</td>\n",
       "      <td>-207.208080</td>\n",
       "      <td>132.799175</td>\n",
       "      <td>...</td>\n",
       "      <td>-0.613248</td>\n",
       "      <td>0.384877</td>\n",
       "      <td>2.605128</td>\n",
       "      <td>-5.188924</td>\n",
       "      <td>-9.527455</td>\n",
       "      <td>-9.244394</td>\n",
       "      <td>-2.848274</td>\n",
       "      <td>-1.418707</td>\n",
       "      <td>-5.932607</td>\n",
       "      <td>blues</td>\n",
       "    </tr>\n",
       "    <tr>\n",
       "      <th>4</th>\n",
       "      <td>blues</td>\n",
       "      <td>161.499023</td>\n",
       "      <td>0.391059</td>\n",
       "      <td>0.137728</td>\n",
       "      <td>1811.076084</td>\n",
       "      <td>2052.332563</td>\n",
       "      <td>3927.809582</td>\n",
       "      <td>0.075480</td>\n",
       "      <td>-145.434568</td>\n",
       "      <td>102.829023</td>\n",
       "      <td>...</td>\n",
       "      <td>7.457218</td>\n",
       "      <td>-10.470444</td>\n",
       "      <td>-2.360483</td>\n",
       "      <td>-6.783623</td>\n",
       "      <td>2.671134</td>\n",
       "      <td>-4.760879</td>\n",
       "      <td>-0.949005</td>\n",
       "      <td>0.024832</td>\n",
       "      <td>-2.005315</td>\n",
       "      <td>blues</td>\n",
       "    </tr>\n",
       "  </tbody>\n",
       "</table>\n",
       "<p>5 rows × 29 columns</p>\n",
       "</div>"
      ],
      "text/plain": [
       "  class_name       tempo  chroma_stft      rmse  spectral_centroid  \\\n",
       "0      blues  103.359375     0.380260  0.248262        2116.942959   \n",
       "1      blues   95.703125     0.306451  0.113475        1156.070496   \n",
       "2      blues  151.999081     0.253487  0.151571        1331.073970   \n",
       "3      blues  184.570312     0.269320  0.119072        1361.045467   \n",
       "4      blues  161.499023     0.391059  0.137728        1811.076084   \n",
       "\n",
       "   spectral_bandwidth      rolloff  zero_crossing_rate       mfcc1  \\\n",
       "0         1956.611056  4196.107960            0.127272  -26.929785   \n",
       "1         1497.668176  2170.053545            0.058613 -233.860772   \n",
       "2         1973.643437  2900.174130            0.042967 -221.802549   \n",
       "3         1567.804596  2739.625101            0.069124 -207.208080   \n",
       "4         2052.332563  3927.809582            0.075480 -145.434568   \n",
       "\n",
       "        mfcc2  ...     mfcc12     mfcc13    mfcc14    mfcc15    mfcc16  \\\n",
       "0  107.334008  ...  14.336612 -13.821769  7.562789 -6.181372  0.330165   \n",
       "1  136.170239  ...  -2.250578   3.959198  5.322555  0.812028 -1.107202   \n",
       "2  110.843070  ... -13.037723 -12.652228 -1.821905 -7.260097 -6.660252   \n",
       "3  132.799175  ...  -0.613248   0.384877  2.605128 -5.188924 -9.527455   \n",
       "4  102.829023  ...   7.457218 -10.470444 -2.360483 -6.783623  2.671134   \n",
       "\n",
       "      mfcc17     mfcc18     mfcc19     mfcc20  label  \n",
       "0  -6.829571   0.965922  -7.570825   2.918987  blues  \n",
       "1  -4.556555  -2.436490   3.316913  -0.608485  blues  \n",
       "2 -14.682694 -11.719264 -11.025216 -13.387260  blues  \n",
       "3  -9.244394  -2.848274  -1.418707  -5.932607  blues  \n",
       "4  -4.760879  -0.949005   0.024832  -2.005315  blues  \n",
       "\n",
       "[5 rows x 29 columns]"
      ]
     },
     "execution_count": 4,
     "metadata": {},
     "output_type": "execute_result"
    }
   ],
   "source": [
    "df.head()"
   ]
  },
  {
   "cell_type": "markdown",
   "metadata": {},
   "source": [
    "# Preprocesing"
   ]
  },
  {
   "cell_type": "code",
   "execution_count": 5,
   "metadata": {},
   "outputs": [
    {
     "data": {
      "text/plain": [
       "array(['blues', 'classical', 'country', 'disco', 'hiphop', 'jazz',\n",
       "       'metal', 'pop', 'reggae', 'rock'], dtype=object)"
      ]
     },
     "execution_count": 5,
     "metadata": {},
     "output_type": "execute_result"
    }
   ],
   "source": [
    "df['class_name'].unique()"
   ]
  },
  {
   "cell_type": "code",
   "execution_count": 6,
   "metadata": {},
   "outputs": [],
   "source": [
    "df['class_name'] = df['class_name'].astype('category')\n",
    "df['class_label'] = df['class_name'].cat.codes"
   ]
  },
  {
   "cell_type": "code",
   "execution_count": 7,
   "metadata": {
    "scrolled": true
   },
   "outputs": [
    {
     "data": {
      "text/plain": [
       "{0: 'blues',\n",
       " 1: 'classical',\n",
       " 2: 'country',\n",
       " 3: 'disco',\n",
       " 4: 'hiphop',\n",
       " 5: 'jazz',\n",
       " 6: 'metal',\n",
       " 7: 'pop',\n",
       " 8: 'reggae',\n",
       " 9: 'rock'}"
      ]
     },
     "execution_count": 7,
     "metadata": {},
     "output_type": "execute_result"
    }
   ],
   "source": [
    "lookup_genre_name = dict(zip(df.class_label.unique(), df.class_name.unique()))   \n",
    "lookup_genre_name"
   ]
  },
  {
   "cell_type": "code",
   "execution_count": 8,
   "metadata": {},
   "outputs": [
    {
     "data": {
      "text/plain": [
       "['blues', 'classical', 'country', 'disco', 'hiphop', 'jazz', 'metal', 'pop', 'reggae', 'rock']\n",
       "Categories (10, object): ['blues', 'classical', 'country', 'disco', ..., 'metal', 'pop', 'reggae', 'rock']"
      ]
     },
     "execution_count": 8,
     "metadata": {},
     "output_type": "execute_result"
    }
   ],
   "source": [
    "df['class_name'].unique()"
   ]
  },
  {
   "cell_type": "code",
   "execution_count": 9,
   "metadata": {},
   "outputs": [],
   "source": [
    "cols = list(df.columns)\n",
    "cols.remove('label')\n",
    "cols.remove('class_label')\n",
    "cols.remove('class_name')\n",
    "#df[cols]"
   ]
  },
  {
   "cell_type": "markdown",
   "metadata": {},
   "source": [
    "# Data Splitting for Training and Testing"
   ]
  },
  {
   "cell_type": "code",
   "execution_count": 10,
   "metadata": {},
   "outputs": [],
   "source": [
    "from sklearn.model_selection import train_test_split\n",
    "X = df.iloc[:,1:28]\n",
    "y = df['class_label']\n",
    "X_train, X_test, y_train, y_test = train_test_split(X, y, random_state=3)"
   ]
  },
  {
   "cell_type": "markdown",
   "metadata": {},
   "source": [
    "# Feature importance using Random Forest"
   ]
  },
  {
   "cell_type": "code",
   "execution_count": 12,
   "metadata": {},
   "outputs": [
    {
     "data": {
      "image/png": "[encoded data removed]",
      "text/plain": [
       "<Figure size 640x480 with 1 Axes>"
      ]
     },
     "metadata": {},
     "output_type": "display_data"
    }
   ],
   "source": [
    "from sklearn.ensemble import RandomForestClassifier\n",
    "import matplotlib.pyplot as plt\n",
    "clf = RandomForestClassifier(random_state=0, n_jobs=-1).fit(X_train, y_train)\n",
    "importances = clf.feature_importances_\n",
    "indices = np.argsort(importances)[::-1]\n",
    "names = [X.columns.values[i] for i in indices]\n",
    "plt.figure()\n",
    "plt.title(\"Feature Importance\")\n",
    "plt.bar(range(X.shape[1]), importances[indices])\n",
    "plt.xticks(range(X.shape[1]), names, rotation=90)\n",
    "plt.show()"
   ]
  },
  {
   "attachments": {},
   "cell_type": "markdown",
   "metadata": {},
   "source": [
    "# Random Forest Classifier"
   ]
  },
  {
   "cell_type": "code",
   "execution_count": 14,
   "metadata": {},
   "outputs": [
    {
     "data": {
      "text/plain": [
       "0.692"
      ]
     },
     "execution_count": 14,
     "metadata": {},
     "output_type": "execute_result"
    }
   ],
   "source": [
    "from sklearn.ensemble import RandomForestClassifier\n",
    "rfc = RandomForestClassifier(n_estimators=410, max_depth=50, min_samples_split=2,\n",
    "                             min_samples_leaf=1, random_state=42)\n",
    "rfc.fit(X_train, y_train)\n",
    "rfc.score(X_test, y_test)"
   ]
  },
  {
   "cell_type": "markdown",
   "metadata": {},
   "source": [
    "# Fetching File Metadata For Prediction"
   ]
  },
  {
   "cell_type": "code",
   "execution_count": 15,
   "metadata": {
    "scrolled": true
   },
   "outputs": [
    {
     "name": "stderr",
     "output_type": "stream",
     "text": [
      "d:\\Music Genre detection\\Music-Genre-Classification-Django\\predictor\\Metadata.py:10: FutureWarning: librosa.beat.tempo\n",
      "\tThis function was moved to 'librosa.feature.rhythm.tempo' in librosa version 0.10.0.\n",
      "\tThis alias will be removed in librosa version 1.0.\n",
      "  tempo = librosa.beat.tempo(onset_envelope=onset_env, sr=sr)\n"
     ]
    }
   ],
   "source": [
    "from predictor.Metadata import getmetadata\n",
    "a = getmetadata(\"2.wav\")"
   ]
  },
  {
   "attachments": {},
   "cell_type": "markdown",
   "metadata": {},
   "source": [
    "# Predicting using Random Forest classifier"
   ]
  },
  {
   "cell_type": "code",
   "execution_count": 16,
   "metadata": {},
   "outputs": [
    {
     "name": "stdout",
     "output_type": "stream",
     "text": [
      "hiphop\n"
     ]
    },
    {
     "name": "stderr",
     "output_type": "stream",
     "text": [
      "d:\\Music Genre detection\\myenv\\lib\\site-packages\\sklearn\\base.py:439: UserWarning: X does not have valid feature names, but RandomForestClassifier was fitted with feature names\n",
      "  warnings.warn(\n"
     ]
    }
   ],
   "source": [
    "d1 =np.array(a)\n",
    "genre_prediction = rfc.predict([d1])\n",
    "print(lookup_genre_name[genre_prediction[0]])"
   ]
  },
  {
   "cell_type": "code",
   "execution_count": 17,
   "metadata": {},
   "outputs": [],
   "source": [
    "import pickle\n",
    "pick1 = {\n",
    "    'knn':rfc,\n",
    "    'lgn':lookup_genre_name\n",
    "}\n",
    "pickle.dump( pick1, open( 'models' + \".p\", \"wb\" ) )"
   ]
  }
 ],
 "metadata": {
  "kernelspec": {
   "display_name": "myenv",
   "language": "python",
   "name": "python3"
  },
  "language_info": {
   "codemirror_mode": {
    "name": "ipython",
    "version": 3
   },
   "file_extension": ".py",
   "mimetype": "text/x-python",
   "name": "python",
   "nbconvert_exporter": "python",
   "pygments_lexer": "ipython3",
   "version": "3.10.4"
  },
  "vscode": {
   "interpreter": {
    "hash": "179ca0cb596ea884e1a9e81e703a76685a8776aa1ee5aad409f0f4be52faa8f1"
   }
  }
 },
 "nbformat": 4,
 "nbformat_minor": 2
}
